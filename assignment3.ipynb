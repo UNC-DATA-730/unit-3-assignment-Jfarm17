{
 "cells": [
  {
   "cell_type": "markdown",
   "id": "df0d234f-1e1a-4495-8208-e177e7f527aa",
   "metadata": {},
   "source": [
    "Complete the exercises below For **Assignment #3**."
   ]
  },
  {
   "cell_type": "markdown",
   "id": "d2c32b8d-1552-4d11-94d6-1813636dc383",
   "metadata": {},
   "source": [
    "## Linear model with one numerical variable"
   ]
  },
  {
   "cell_type": "markdown",
   "id": "8e4e23de-7cc0-4f48-a3e3-ff69bdc784ac",
   "metadata": {},
   "source": [
    "Execute the following cell to load the [ISLR2](https://cran.rstudio.com/web/packages/ISLR2/index.html) and [Tidverse](https://www.tidyverse.org/) packages."
   ]
  },
  {
   "cell_type": "code",
   "execution_count": 15,
   "id": "55cd77a5-0ab4-46bf-bdc5-29fbb17409a1",
   "metadata": {},
   "outputs": [],
   "source": [
    "library('tidyverse')\n",
    "library('ISLR2')"
   ]
  },
  {
   "cell_type": "markdown",
   "id": "933aa6ab-37a8-4c2f-a7fc-43cbe06a726f",
   "metadata": {},
   "source": [
    "The `ISLR2` package provides a dataset called `Boston` that we will use in this assignment."
   ]
  },
  {
   "cell_type": "code",
   "execution_count": 17,
   "id": "dbce39b6-f39e-41da-ac05-1f8c8a3546e4",
   "metadata": {},
   "outputs": [
    {
     "name": "stdout",
     "output_type": "stream",
     "text": [
      "Rows: 506\n",
      "Columns: 13\n",
      "$ crim    \u001b[3m\u001b[90m<dbl>\u001b[39m\u001b[23m 0.00632, 0.02731, 0.02729, 0.03237, 0.06905, 0.02985, 0.08829,~\n",
      "$ zn      \u001b[3m\u001b[90m<dbl>\u001b[39m\u001b[23m 18.0, 0.0, 0.0, 0.0, 0.0, 0.0, 12.5, 12.5, 12.5, 12.5, 12.5, 1~\n",
      "$ indus   \u001b[3m\u001b[90m<dbl>\u001b[39m\u001b[23m 2.31, 7.07, 7.07, 2.18, 2.18, 2.18, 7.87, 7.87, 7.87, 7.87, 7.~\n",
      "$ chas    \u001b[3m\u001b[90m<int>\u001b[39m\u001b[23m 0, 0, 0, 0, 0, 0, 0, 0, 0, 0, 0, 0, 0, 0, 0, 0, 0, 0, 0, 0, 0,~\n",
      "$ nox     \u001b[3m\u001b[90m<dbl>\u001b[39m\u001b[23m 0.538, 0.469, 0.469, 0.458, 0.458, 0.458, 0.524, 0.524, 0.524,~\n",
      "$ rm      \u001b[3m\u001b[90m<dbl>\u001b[39m\u001b[23m 6.575, 6.421, 7.185, 6.998, 7.147, 6.430, 6.012, 6.172, 5.631,~\n",
      "$ age     \u001b[3m\u001b[90m<dbl>\u001b[39m\u001b[23m 65.2, 78.9, 61.1, 45.8, 54.2, 58.7, 66.6, 96.1, 100.0, 85.9, 9~\n",
      "$ dis     \u001b[3m\u001b[90m<dbl>\u001b[39m\u001b[23m 4.0900, 4.9671, 4.9671, 6.0622, 6.0622, 6.0622, 5.5605, 5.9505~\n",
      "$ rad     \u001b[3m\u001b[90m<int>\u001b[39m\u001b[23m 1, 2, 2, 3, 3, 3, 5, 5, 5, 5, 5, 5, 5, 4, 4, 4, 4, 4, 4, 4, 4,~\n",
      "$ tax     \u001b[3m\u001b[90m<dbl>\u001b[39m\u001b[23m 296, 242, 242, 222, 222, 222, 311, 311, 311, 311, 311, 311, 31~\n",
      "$ ptratio \u001b[3m\u001b[90m<dbl>\u001b[39m\u001b[23m 15.3, 17.8, 17.8, 18.7, 18.7, 18.7, 15.2, 15.2, 15.2, 15.2, 15~\n",
      "$ lstat   \u001b[3m\u001b[90m<dbl>\u001b[39m\u001b[23m 4.98, 9.14, 4.03, 2.94, 5.33, 5.21, 12.43, 19.15, 29.93, 17.10~\n",
      "$ medv    \u001b[3m\u001b[90m<dbl>\u001b[39m\u001b[23m 24.0, 21.6, 34.7, 33.4, 36.2, 28.7, 22.9, 27.1, 16.5, 18.9, 15~\n"
     ]
    }
   ],
   "source": [
    "Boston |> glimpse() #I'm a head() man I've found out, but I respect the glimpsers (glimpse())\n",
    "\n"
   ]
  },
  {
   "cell_type": "code",
   "execution_count": 19,
   "id": "978ef9f0-e195-4481-b05e-14d1be7c1736",
   "metadata": {},
   "outputs": [
    {
     "data": {
      "text/html": [
       "\n",
       "<table width=\"100%\" summary=\"page for Boston {ISLR2}\"><tr><td>Boston {ISLR2}</td><td style=\"text-align: right;\">R Documentation</td></tr></table>\n",
       "\n",
       "<h2>Boston Data</h2>\n",
       "\n",
       "<h3>Description</h3>\n",
       "\n",
       "<p>A data set containing housing values in 506 suburbs of Boston.</p>\n",
       "\n",
       "\n",
       "<h3>Usage</h3>\n",
       "\n",
       "<pre>Boston</pre>\n",
       "\n",
       "\n",
       "<h3>Format</h3>\n",
       "\n",
       "<p>A data frame with 506 rows and 13 variables.\n",
       "</p>\n",
       "\n",
       "<dl>\n",
       "<dt><code>crim</code></dt><dd><p>per capita crime rate by town.</p>\n",
       "</dd>    \n",
       "<dt><code>zn</code></dt><dd><p>  proportion of residential land zoned for lots over 25,000 sq.ft. </p>\n",
       "</dd>\n",
       "<dt><code>indus</code></dt><dd><p>proportion of non-retail business acres per town.  </p>\n",
       "</dd>\n",
       "<dt><code>chas</code></dt><dd><p>Charles River dummy variable (= 1 if tract bounds river; 0 otherwise). </p>\n",
       "</dd>\n",
       "<dt><code>nox</code></dt><dd><p>nitrogen oxides concentration (parts per 10 million).</p>\n",
       "</dd>\n",
       "<dt><code>rm</code></dt><dd><p>average number of rooms per dwelling.</p>\n",
       "</dd>\n",
       "<dt><code>age</code></dt><dd><p>proportion of owner-occupied units built prior to 1940.</p>\n",
       "</dd>\n",
       "<dt><code>dis</code></dt><dd><p>weighted mean of distances to five Boston employment centres.</p>\n",
       "</dd>\n",
       "<dt><code>rad</code></dt><dd><p>index of accessibility to radial highways.</p>\n",
       "</dd>\n",
       "<dt><code>tax</code></dt><dd><p>full-value property-tax rate per $10,000.</p>\n",
       "</dd>\n",
       "<dt><code>ptratio</code></dt><dd><p>pupil-teacher ratio by town.</p>\n",
       "</dd>\n",
       "<dt><code>lstat</code></dt><dd><p>lower status of the population (percent).</p>\n",
       "</dd>\n",
       "<dt><code>medv</code></dt><dd><p>median value of owner-occupied homes in $1000s.</p>\n",
       "</dd>\n",
       "</dl>\n",
       "\n",
       "\n",
       "\n",
       "<h3>Source</h3>\n",
       "\n",
       "<p>This dataset was obtained from, and is slightly modified from, the Boston dataset that is part of the MASS library. \n",
       "References are available in the MASS library. </p>\n",
       "\n",
       "\n",
       "<h3>References</h3>\n",
       "\n",
       "<p>James, G., Witten, D., Hastie, T., and Tibshirani, R. (2013)\n",
       "<em>An Introduction to Statistical Learning with applications in R</em>,\n",
       "<a href=\"https://www.statlearning.com\">https://www.statlearning.com</a>,\n",
       "Springer-Verlag, New York\n",
       "</p>\n",
       "\n",
       "\n",
       "<h3>Examples</h3>\n",
       "\n",
       "<pre>\n",
       "lm(medv ~ crim + rm, data=Boston)\n",
       "</pre>\n",
       "\n",
       "<hr /><div style=\"text-align: center;\">[Package <em>ISLR2</em> version 1.3-2 ]</div>"
      ],
      "text/latex": [
       "\\inputencoding{utf8}\n",
       "\\HeaderA{Boston}{Boston Data}{Boston}\n",
       "\\keyword{datasets}{Boston}\n",
       "%\n",
       "\\begin{Description}\\relax\n",
       "A data set containing housing values in 506 suburbs of Boston.\n",
       "\\end{Description}\n",
       "%\n",
       "\\begin{Usage}\n",
       "\\begin{verbatim}\n",
       "Boston\n",
       "\\end{verbatim}\n",
       "\\end{Usage}\n",
       "%\n",
       "\\begin{Format}\n",
       "A data frame with 506 rows and 13 variables.\n",
       "\\begin{description}\n",
       "\n",
       "\\item[\\code{crim}] per capita crime rate by town.   \n",
       "\\item[\\code{zn}]   proportion of residential land zoned for lots over 25,000 sq.ft. \n",
       "\\item[\\code{indus}] proportion of non-retail business acres per town.  \n",
       "\\item[\\code{chas}] Charles River dummy variable (= 1 if tract bounds river; 0 otherwise). \n",
       "\\item[\\code{nox}] nitrogen oxides concentration (parts per 10 million).\n",
       "\\item[\\code{rm}] average number of rooms per dwelling.\n",
       "\\item[\\code{age}] proportion of owner-occupied units built prior to 1940.\n",
       "\\item[\\code{dis}] weighted mean of distances to five Boston employment centres.\n",
       "\\item[\\code{rad}] index of accessibility to radial highways.\n",
       "\\item[\\code{tax}] full-value property-tax rate per \\$10,000.\n",
       "\\item[\\code{ptratio}] pupil-teacher ratio by town.\n",
       "\\item[\\code{lstat}] lower status of the population (percent).\n",
       "\\item[\\code{medv}] median value of owner-occupied homes in \\$1000s.\n",
       "\n",
       "\\end{description}\n",
       "\n",
       "\\end{Format}\n",
       "%\n",
       "\\begin{Source}\\relax\n",
       "This dataset was obtained from, and is slightly modified from, the Boston dataset that is part of the MASS library. \n",
       "References are available in the MASS library. \n",
       "\\end{Source}\n",
       "%\n",
       "\\begin{References}\\relax\n",
       "James, G., Witten, D., Hastie, T., and Tibshirani, R. (2013)\n",
       "\\emph{An Introduction to Statistical Learning with applications in R},\n",
       "\\url{https://www.statlearning.com},\n",
       "Springer-Verlag, New York\n",
       "\\end{References}\n",
       "%\n",
       "\\begin{Examples}\n",
       "\\begin{ExampleCode}\n",
       "lm(medv ~ crim + rm, data=Boston)\n",
       "\\end{ExampleCode}\n",
       "\\end{Examples}"
      ],
      "text/plain": [
       "Boston                  package:ISLR2                  R Documentation\n",
       "\n",
       "_\bB_\bo_\bs_\bt_\bo_\bn _\bD_\ba_\bt_\ba\n",
       "\n",
       "_\bD_\be_\bs_\bc_\br_\bi_\bp_\bt_\bi_\bo_\bn:\n",
       "\n",
       "     A data set containing housing values in 506 suburbs of Boston.\n",
       "\n",
       "_\bU_\bs_\ba_\bg_\be:\n",
       "\n",
       "     Boston\n",
       "     \n",
       "_\bF_\bo_\br_\bm_\ba_\bt:\n",
       "\n",
       "     A data frame with 506 rows and 13 variables.\n",
       "\n",
       "     'crim' per capita crime rate by town.\n",
       "\n",
       "     'zn' proportion of residential land zoned for lots over 25,000\n",
       "          sq.ft.\n",
       "\n",
       "     'indus' proportion of non-retail business acres per town.\n",
       "\n",
       "     'chas' Charles River dummy variable (= 1 if tract bounds river; 0\n",
       "          otherwise).\n",
       "\n",
       "     'nox' nitrogen oxides concentration (parts per 10 million).\n",
       "\n",
       "     'rm' average number of rooms per dwelling.\n",
       "\n",
       "     'age' proportion of owner-occupied units built prior to 1940.\n",
       "\n",
       "     'dis' weighted mean of distances to five Boston employment\n",
       "          centres.\n",
       "\n",
       "     'rad' index of accessibility to radial highways.\n",
       "\n",
       "     'tax' full-value property-tax rate per $10,000.\n",
       "\n",
       "     'ptratio' pupil-teacher ratio by town.\n",
       "\n",
       "     'lstat' lower status of the population (percent).\n",
       "\n",
       "     'medv' median value of owner-occupied homes in $1000s.\n",
       "\n",
       "_\bS_\bo_\bu_\br_\bc_\be:\n",
       "\n",
       "     This dataset was obtained from, and is slightly modified from, the\n",
       "     Boston dataset that is part of the MASS library.  References are\n",
       "     available in the MASS library.\n",
       "\n",
       "_\bR_\be_\bf_\be_\br_\be_\bn_\bc_\be_\bs:\n",
       "\n",
       "     James, G., Witten, D., Hastie, T., and Tibshirani, R. (2013) _An\n",
       "     Introduction to Statistical Learning with applications in R_,\n",
       "     <URL: https://www.statlearning.com>, Springer-Verlag, New York\n",
       "\n",
       "_\bE_\bx_\ba_\bm_\bp_\bl_\be_\bs:\n",
       "\n",
       "     lm(medv ~ crim + rm, data=Boston)\n",
       "     "
      ]
     },
     "metadata": {},
     "output_type": "display_data"
    }
   ],
   "source": [
    "help(Boston)"
   ]
  },
  {
   "cell_type": "markdown",
   "id": "77da3910-2e39-4cff-902d-e40708762c03",
   "metadata": {},
   "source": [
    "🚨 Use the **Jupyter Lab Contextual Help Feature** to see the documentation for this data. "
   ]
  },
  {
   "cell_type": "markdown",
   "id": "1e47a00c-0f16-404b-a0d3-ffc039b20a44",
   "metadata": {},
   "source": [
    "❓ **In the markdown cell below, add definitions for the `lstat` and `medv` variables in the `Boston` data.** "
   ]
  },
  {
   "cell_type": "markdown",
   "id": "726e1506-1110-4c45-8881-5d357a865241",
   "metadata": {},
   "source": [
    "- `lstat`: Lower status of the population (Percent)\n",
    "- `medv`: Median value of owner-occupied homes in $1000s"
   ]
  },
  {
   "cell_type": "markdown",
   "id": "3c32e437-d1e4-42dc-88b6-4a03b95b7451",
   "metadata": {},
   "source": [
    "Let's plot `medv` (y-axis) versus `lstat`."
   ]
  },
  {
   "cell_type": "code",
   "execution_count": 21,
   "id": "4e0395b3-c094-457a-b36a-8b10eddb8679",
   "metadata": {},
   "outputs": [
    {
     "data": {
      "image/png": "[encoded data removed]",
      "text/plain": [
       "plot without title"
      ]
     },
     "metadata": {
      "image/png": {
       "height": 420,
       "width": 420
      }
     },
     "output_type": "display_data"
    }
   ],
   "source": [
    "p = ggplot(Boston, aes(x = lstat, y = medv)) + geom_point()\n",
    "\n",
    "p"
   ]
  },
  {
   "cell_type": "markdown",
   "id": "a825fd58-1943-4acd-8eb1-1630ad53f53c",
   "metadata": {},
   "source": [
    "❓Does the relationship appear to be positive or negative? Does it look to be reasonably linear?"
   ]
  },
  {
   "cell_type": "markdown",
   "id": "2aefb14b-fc45-4e14-98aa-140102a4e007",
   "metadata": {},
   "source": [
    "**Answer:**"
   ]
  },
  {
   "cell_type": "markdown",
   "id": "ff3ebf30-34ae-4a22-ae0c-db1a1992fb86",
   "metadata": {},
   "source": [
    "The realtionship appears to be negative and reasonably linear. There are slight curves though. "
   ]
  },
  {
   "cell_type": "markdown",
   "id": "30242f77-b6d8-4db6-bf85-6fa2f8d11695",
   "metadata": {},
   "source": [
    "### Let's build a model!"
   ]
  },
  {
   "cell_type": "markdown",
   "id": "72f8fade-53fe-44da-a4a2-5fb4e153f5b6",
   "metadata": {},
   "source": [
    "We need to first load the [Tidymodels]() package."
   ]
  },
  {
   "cell_type": "code",
   "execution_count": 23,
   "id": "cbcc4cc7-9953-4dfe-8522-49ed864c6991",
   "metadata": {},
   "outputs": [
    {
     "name": "stderr",
     "output_type": "stream",
     "text": [
      "-- \u001b[1mAttaching packages\u001b[22m -------------------------------------- tidymodels 1.1.0 --\n",
      "\n",
      "\u001b[32mv\u001b[39m \u001b[34mbroom       \u001b[39m 1.0.5     \u001b[32mv\u001b[39m \u001b[34mrsample     \u001b[39m 1.1.1\n",
      "\u001b[32mv\u001b[39m \u001b[34mdials       \u001b[39m 1.2.0     \u001b[32mv\u001b[39m \u001b[34mtune        \u001b[39m 1.1.1\n",
      "\u001b[32mv\u001b[39m \u001b[34minfer       \u001b[39m 1.0.4     \u001b[32mv\u001b[39m \u001b[34mworkflows   \u001b[39m 1.1.3\n",
      "\u001b[32mv\u001b[39m \u001b[34mmodeldata   \u001b[39m 1.1.0     \u001b[32mv\u001b[39m \u001b[34mworkflowsets\u001b[39m 1.0.1\n",
      "\u001b[32mv\u001b[39m \u001b[34mparsnip     \u001b[39m 1.1.0     \u001b[32mv\u001b[39m \u001b[34myardstick   \u001b[39m 1.3.1\n",
      "\u001b[32mv\u001b[39m \u001b[34mrecipes     \u001b[39m 1.0.6     \n",
      "\n",
      "-- \u001b[1mConflicts\u001b[22m ----------------------------------------- tidymodels_conflicts() --\n",
      "\u001b[31mx\u001b[39m \u001b[34mscales\u001b[39m::\u001b[32mdiscard()\u001b[39m masks \u001b[34mpurrr\u001b[39m::discard()\n",
      "\u001b[31mx\u001b[39m \u001b[34mdplyr\u001b[39m::\u001b[32mfilter()\u001b[39m   masks \u001b[34mstats\u001b[39m::filter()\n",
      "\u001b[31mx\u001b[39m \u001b[34mrecipes\u001b[39m::\u001b[32mfixed()\u001b[39m  masks \u001b[34mstringr\u001b[39m::fixed()\n",
      "\u001b[31mx\u001b[39m \u001b[34mdplyr\u001b[39m::\u001b[32mlag()\u001b[39m      masks \u001b[34mstats\u001b[39m::lag()\n",
      "\u001b[31mx\u001b[39m \u001b[34myardstick\u001b[39m::\u001b[32mspec()\u001b[39m masks \u001b[34mreadr\u001b[39m::spec()\n",
      "\u001b[31mx\u001b[39m \u001b[34mrecipes\u001b[39m::\u001b[32mstep()\u001b[39m   masks \u001b[34mstats\u001b[39m::step()\n",
      "\u001b[34m*\u001b[39m Search for functions across packages at \u001b[32mhttps://www.tidymodels.org/find/\u001b[39m\n",
      "\n"
     ]
    }
   ],
   "source": [
    "library('tidymodels')"
   ]
  },
  {
   "cell_type": "markdown",
   "id": "836a9a88-2f2d-426f-be16-dbc7b43fb368",
   "metadata": {},
   "source": [
    "First we specify our model as `linear regression` using the `lm` engine."
   ]
  },
  {
   "cell_type": "code",
   "execution_count": 25,
   "id": "13df57c7-c992-486e-a232-bca73e013238",
   "metadata": {},
   "outputs": [
    {
     "data": {
      "text/plain": [
       "Linear Regression Model Specification (regression)\n",
       "\n",
       "Computational engine: lm \n"
      ]
     },
     "metadata": {},
     "output_type": "display_data"
    }
   ],
   "source": [
    "mod = linear_reg() |> set_engine(\"lm\")\n",
    "\n",
    "mod"
   ]
  },
  {
   "cell_type": "markdown",
   "id": "a398157e-b012-46c9-a980-2ef708d0af28",
   "metadata": {},
   "source": [
    "Next we \"fit\" our model by supplying the `formula` and the data."
   ]
  },
  {
   "cell_type": "code",
   "execution_count": 27,
   "id": "c083e3d9-384e-4cc7-b79b-6692cfb8aa5a",
   "metadata": {},
   "outputs": [
    {
     "data": {
      "text/plain": [
       "parsnip model object\n",
       "\n",
       "\n",
       "Call:\n",
       "stats::lm(formula = medv ~ lstat, data = data)\n",
       "\n",
       "Coefficients:\n",
       "(Intercept)        lstat  \n",
       "      34.55        -0.95  \n"
      ]
     },
     "metadata": {},
     "output_type": "display_data"
    }
   ],
   "source": [
    "mod_fit = mod |> fit(medv ~ lstat, data = Boston)\n",
    "\n",
    "mod_fit"
   ]
  },
  {
   "cell_type": "markdown",
   "id": "ad3aef72-b9d7-440f-8765-e73892de0af1",
   "metadata": {},
   "source": [
    "### Get the regression table"
   ]
  },
  {
   "cell_type": "code",
   "execution_count": 29,
   "id": "5b28d962-56dd-42d6-ba4c-8b688c639442",
   "metadata": {},
   "outputs": [
    {
     "data": {
      "text/html": [
       "<table class=\"dataframe\">\n",
       "<caption>A tibble: 2 × 5</caption>\n",
       "<thead>\n",
       "\t<tr><th scope=col>term</th><th scope=col>estimate</th><th scope=col>std.error</th><th scope=col>statistic</th><th scope=col>p.value</th></tr>\n",
       "\t<tr><th scope=col>&lt;chr&gt;</th><th scope=col>&lt;dbl&gt;</th><th scope=col>&lt;dbl&gt;</th><th scope=col>&lt;dbl&gt;</th><th scope=col>&lt;dbl&gt;</th></tr>\n",
       "</thead>\n",
       "<tbody>\n",
       "\t<tr><td>(Intercept)</td><td>34.5538409</td><td>0.56262735</td><td> 61.41515</td><td>3.743081e-236</td></tr>\n",
       "\t<tr><td>lstat      </td><td>-0.9500494</td><td>0.03873342</td><td>-24.52790</td><td> 5.081103e-88</td></tr>\n",
       "</tbody>\n",
       "</table>\n"
      ],
      "text/latex": [
       "A tibble: 2 × 5\n",
       "\\begin{tabular}{lllll}\n",
       " term & estimate & std.error & statistic & p.value\\\\\n",
       " <chr> & <dbl> & <dbl> & <dbl> & <dbl>\\\\\n",
       "\\hline\n",
       "\t (Intercept) & 34.5538409 & 0.56262735 &  61.41515 & 3.743081e-236\\\\\n",
       "\t lstat       & -0.9500494 & 0.03873342 & -24.52790 &  5.081103e-88\\\\\n",
       "\\end{tabular}\n"
      ],
      "text/markdown": [
       "\n",
       "A tibble: 2 × 5\n",
       "\n",
       "| term &lt;chr&gt; | estimate &lt;dbl&gt; | std.error &lt;dbl&gt; | statistic &lt;dbl&gt; | p.value &lt;dbl&gt; |\n",
       "|---|---|---|---|---|\n",
       "| (Intercept) | 34.5538409 | 0.56262735 |  61.41515 | 3.743081e-236 |\n",
       "| lstat       | -0.9500494 | 0.03873342 | -24.52790 |  5.081103e-88 |\n",
       "\n"
      ],
      "text/plain": [
       "  term        estimate   std.error  statistic p.value      \n",
       "1 (Intercept) 34.5538409 0.56262735  61.41515 3.743081e-236\n",
       "2 lstat       -0.9500494 0.03873342 -24.52790  5.081103e-88"
      ]
     },
     "metadata": {},
     "output_type": "display_data"
    }
   ],
   "source": [
    "# We can use the tidy function to get a table of our model information\n",
    "tidy(mod_fit)"
   ]
  },
  {
   "cell_type": "markdown",
   "id": "7354073f-14ca-4ae9-a96f-0a0e13ff98da",
   "metadata": {},
   "source": [
    "❓Comparing on the chart above and the regression table, does the **sign** of the `estimate` for the `lstat` term coefficient fit your expectations?"
   ]
  },
  {
   "cell_type": "markdown",
   "id": "f0a0f5e8-b697-4a67-9df9-386d01061b08",
   "metadata": {},
   "source": [
    "**Answer:**"
   ]
  },
  {
   "cell_type": "code",
   "execution_count": null,
   "id": "bae5e1cc-bd32-475c-8367-07437063f4ee",
   "metadata": {},
   "outputs": [],
   "source": [
    "The sign fits my expectations as it is a negative sign regarding the coefficent of lstat. "
   ]
  },
  {
   "cell_type": "markdown",
   "id": "ade6a556-7c83-4b9b-b334-df5dbf69d43d",
   "metadata": {},
   "source": [
    "### Making predictions and visualizing the model"
   ]
  },
  {
   "cell_type": "markdown",
   "id": "a3c72fd6-72c0-4692-b9f0-cf0ff28a336b",
   "metadata": {},
   "source": [
    "We can use the `augment` function to \"predict\" `medv` for all the values in our original dataset. We will capture these predictions in a new data frame called `Boston2`. The predicted values are found in the `.pred` column."
   ]
  },
  {
   "cell_type": "code",
   "execution_count": 31,
   "id": "ffadcfb8-2fbb-44df-92e5-756657df3ba7",
   "metadata": {},
   "outputs": [
    {
     "name": "stdout",
     "output_type": "stream",
     "text": [
      "Rows: 506\n",
      "Columns: 15\n",
      "$ crim    \u001b[3m\u001b[90m<dbl>\u001b[39m\u001b[23m 0.00632, 0.02731, 0.02729, 0.03237, 0.06905, 0.02985, 0.08829,~\n",
      "$ zn      \u001b[3m\u001b[90m<dbl>\u001b[39m\u001b[23m 18.0, 0.0, 0.0, 0.0, 0.0, 0.0, 12.5, 12.5, 12.5, 12.5, 12.5, 1~\n",
      "$ indus   \u001b[3m\u001b[90m<dbl>\u001b[39m\u001b[23m 2.31, 7.07, 7.07, 2.18, 2.18, 2.18, 7.87, 7.87, 7.87, 7.87, 7.~\n",
      "$ chas    \u001b[3m\u001b[90m<int>\u001b[39m\u001b[23m 0, 0, 0, 0, 0, 0, 0, 0, 0, 0, 0, 0, 0, 0, 0, 0, 0, 0, 0, 0, 0,~\n",
      "$ nox     \u001b[3m\u001b[90m<dbl>\u001b[39m\u001b[23m 0.538, 0.469, 0.469, 0.458, 0.458, 0.458, 0.524, 0.524, 0.524,~\n",
      "$ rm      \u001b[3m\u001b[90m<dbl>\u001b[39m\u001b[23m 6.575, 6.421, 7.185, 6.998, 7.147, 6.430, 6.012, 6.172, 5.631,~\n",
      "$ age     \u001b[3m\u001b[90m<dbl>\u001b[39m\u001b[23m 65.2, 78.9, 61.1, 45.8, 54.2, 58.7, 66.6, 96.1, 100.0, 85.9, 9~\n",
      "$ dis     \u001b[3m\u001b[90m<dbl>\u001b[39m\u001b[23m 4.0900, 4.9671, 4.9671, 6.0622, 6.0622, 6.0622, 5.5605, 5.9505~\n",
      "$ rad     \u001b[3m\u001b[90m<int>\u001b[39m\u001b[23m 1, 2, 2, 3, 3, 3, 5, 5, 5, 5, 5, 5, 5, 4, 4, 4, 4, 4, 4, 4, 4,~\n",
      "$ tax     \u001b[3m\u001b[90m<dbl>\u001b[39m\u001b[23m 296, 242, 242, 222, 222, 222, 311, 311, 311, 311, 311, 311, 31~\n",
      "$ ptratio \u001b[3m\u001b[90m<dbl>\u001b[39m\u001b[23m 15.3, 17.8, 17.8, 18.7, 18.7, 18.7, 15.2, 15.2, 15.2, 15.2, 15~\n",
      "$ lstat   \u001b[3m\u001b[90m<dbl>\u001b[39m\u001b[23m 4.98, 9.14, 4.03, 2.94, 5.33, 5.21, 12.43, 19.15, 29.93, 17.10~\n",
      "$ medv    \u001b[3m\u001b[90m<dbl>\u001b[39m\u001b[23m 24.0, 21.6, 34.7, 33.4, 36.2, 28.7, 22.9, 27.1, 16.5, 18.9, 15~\n",
      "$ .pred   \u001b[3m\u001b[90m<dbl>\u001b[39m\u001b[23m 29.822595, 25.870390, 30.725142, 31.760696, 29.490078, 29.6040~\n",
      "$ .resid  \u001b[3m\u001b[90m<dbl>\u001b[39m\u001b[23m -5.8225951, -4.2703898, 3.9748580, 1.6393042, 6.7099222, -0.90~\n"
     ]
    }
   ],
   "source": [
    "Boston2 = augment(mod_fit, Boston)\n",
    "\n",
    "glimpse(Boston2)"
   ]
  },
  {
   "cell_type": "markdown",
   "id": "307c8da7-3da5-4715-88ff-01b72bdf08a3",
   "metadata": {},
   "source": [
    "Let's visualize our model."
   ]
  },
  {
   "cell_type": "code",
   "execution_count": 33,
   "id": "a5212e66-d298-4c0e-b0d1-0ca7e7b7f011",
   "metadata": {},
   "outputs": [
    {
     "data": {
      "image/png": "[encoded data removed]",
      "text/plain": [
       "plot without title"
      ]
     },
     "metadata": {
      "image/png": {
       "height": 420,
       "width": 420
      }
     },
     "output_type": "display_data"
    }
   ],
   "source": [
    "p = ggplot(Boston2, aes(x = lstat)) +\n",
    "    geom_point(aes(y = medv)) + \n",
    "    geom_line(aes(y = .pred), color = 'coral', linewidth = 1.5)\n",
    "\n",
    "p"
   ]
  },
  {
   "cell_type": "markdown",
   "id": "f5f267da-4170-4ad4-a6cf-4c921e9832b3",
   "metadata": {},
   "source": [
    "### Put your skills to practice independently!"
   ]
  },
  {
   "cell_type": "markdown",
   "id": "c0a2301a-7b1e-48cb-9374-917ab70afa27",
   "metadata": {},
   "source": [
    "In cells below, build a model of `medv` with the `rm` variable as a predictor.\n",
    "\n",
    "**Include the following:**\n",
    "- Show a regression table of your model parameters.\n",
    "- Visualize the model with `ggplot2`."
   ]
  },
  {
   "cell_type": "code",
   "execution_count": 37,
   "id": "974ba136-dfac-4736-9f0a-9b0222eced93",
   "metadata": {},
   "outputs": [
    {
     "data": {
      "image/png": "[encoded data removed]",
      "text/plain": [
       "plot without title"
      ]
     },
     "metadata": {
      "image/png": {
       "height": 420,
       "width": 420
      }
     },
     "output_type": "display_data"
    }
   ],
   "source": [
    "p = ggplot(Boston, aes(x = rm, y = medv)) + \n",
    "    geom_point()\n",
    "\n",
    "p\n"
   ]
  },
  {
   "cell_type": "code",
   "execution_count": 39,
   "id": "0210d823-deaf-4893-b2ec-aebd6578161e",
   "metadata": {},
   "outputs": [
    {
     "data": {
      "text/plain": [
       "Linear Regression Model Specification (regression)\n",
       "\n",
       "Computational engine: lm \n"
      ]
     },
     "metadata": {},
     "output_type": "display_data"
    }
   ],
   "source": [
    "mod = linear_reg() |> set_engine(\"lm\")\n",
    "\n",
    "mod"
   ]
  },
  {
   "cell_type": "code",
   "execution_count": 41,
   "id": "da70dee1-cc4d-4422-949a-6f785155f0d8",
   "metadata": {},
   "outputs": [
    {
     "data": {
      "text/plain": [
       "parsnip model object\n",
       "\n",
       "\n",
       "Call:\n",
       "stats::lm(formula = medv ~ rm, data = data)\n",
       "\n",
       "Coefficients:\n",
       "(Intercept)           rm  \n",
       "    -34.671        9.102  \n"
      ]
     },
     "metadata": {},
     "output_type": "display_data"
    }
   ],
   "source": [
    "mod_fit = mod |> fit(medv ~ rm, data = Boston)\n",
    "\n",
    "mod_fit"
   ]
  },
  {
   "cell_type": "code",
   "execution_count": 43,
   "id": "9aea50a5-5cea-411c-bfeb-3eca67a52149",
   "metadata": {},
   "outputs": [
    {
     "data": {
      "text/html": [
       "<table class=\"dataframe\">\n",
       "<caption>A tibble: 2 × 5</caption>\n",
       "<thead>\n",
       "\t<tr><th scope=col>term</th><th scope=col>estimate</th><th scope=col>std.error</th><th scope=col>statistic</th><th scope=col>p.value</th></tr>\n",
       "\t<tr><th scope=col>&lt;chr&gt;</th><th scope=col>&lt;dbl&gt;</th><th scope=col>&lt;dbl&gt;</th><th scope=col>&lt;dbl&gt;</th><th scope=col>&lt;dbl&gt;</th></tr>\n",
       "</thead>\n",
       "<tbody>\n",
       "\t<tr><td>(Intercept)</td><td>-34.670621</td><td>2.6498030</td><td>-13.08423</td><td>6.950229e-34</td></tr>\n",
       "\t<tr><td>rm         </td><td>  9.102109</td><td>0.4190266</td><td> 21.72203</td><td>2.487229e-74</td></tr>\n",
       "</tbody>\n",
       "</table>\n"
      ],
      "text/latex": [
       "A tibble: 2 × 5\n",
       "\\begin{tabular}{lllll}\n",
       " term & estimate & std.error & statistic & p.value\\\\\n",
       " <chr> & <dbl> & <dbl> & <dbl> & <dbl>\\\\\n",
       "\\hline\n",
       "\t (Intercept) & -34.670621 & 2.6498030 & -13.08423 & 6.950229e-34\\\\\n",
       "\t rm          &   9.102109 & 0.4190266 &  21.72203 & 2.487229e-74\\\\\n",
       "\\end{tabular}\n"
      ],
      "text/markdown": [
       "\n",
       "A tibble: 2 × 5\n",
       "\n",
       "| term &lt;chr&gt; | estimate &lt;dbl&gt; | std.error &lt;dbl&gt; | statistic &lt;dbl&gt; | p.value &lt;dbl&gt; |\n",
       "|---|---|---|---|---|\n",
       "| (Intercept) | -34.670621 | 2.6498030 | -13.08423 | 6.950229e-34 |\n",
       "| rm          |   9.102109 | 0.4190266 |  21.72203 | 2.487229e-74 |\n",
       "\n"
      ],
      "text/plain": [
       "  term        estimate   std.error statistic p.value     \n",
       "1 (Intercept) -34.670621 2.6498030 -13.08423 6.950229e-34\n",
       "2 rm            9.102109 0.4190266  21.72203 2.487229e-74"
      ]
     },
     "metadata": {},
     "output_type": "display_data"
    }
   ],
   "source": [
    "tidy(mod_fit)"
   ]
  },
  {
   "cell_type": "code",
   "execution_count": 45,
   "id": "6a890c68-2217-4ac9-be31-51203d6b8c02",
   "metadata": {},
   "outputs": [
    {
     "data": {
      "text/html": [
       "<table class=\"dataframe\">\n",
       "<caption>A tibble: 6 × 15</caption>\n",
       "<thead>\n",
       "\t<tr><th scope=col>crim</th><th scope=col>zn</th><th scope=col>indus</th><th scope=col>chas</th><th scope=col>nox</th><th scope=col>rm</th><th scope=col>age</th><th scope=col>dis</th><th scope=col>rad</th><th scope=col>tax</th><th scope=col>ptratio</th><th scope=col>lstat</th><th scope=col>medv</th><th scope=col>.pred</th><th scope=col>.resid</th></tr>\n",
       "\t<tr><th scope=col>&lt;dbl&gt;</th><th scope=col>&lt;dbl&gt;</th><th scope=col>&lt;dbl&gt;</th><th scope=col>&lt;int&gt;</th><th scope=col>&lt;dbl&gt;</th><th scope=col>&lt;dbl&gt;</th><th scope=col>&lt;dbl&gt;</th><th scope=col>&lt;dbl&gt;</th><th scope=col>&lt;int&gt;</th><th scope=col>&lt;dbl&gt;</th><th scope=col>&lt;dbl&gt;</th><th scope=col>&lt;dbl&gt;</th><th scope=col>&lt;dbl&gt;</th><th scope=col>&lt;dbl&gt;</th><th scope=col>&lt;dbl&gt;</th></tr>\n",
       "</thead>\n",
       "<tbody>\n",
       "\t<tr><td>0.00632</td><td>18</td><td>2.31</td><td>0</td><td>0.538</td><td>6.575</td><td>65.2</td><td>4.0900</td><td>1</td><td>296</td><td>15.3</td><td>4.98</td><td>24.0</td><td>25.17575</td><td>-1.175746</td></tr>\n",
       "\t<tr><td>0.02731</td><td> 0</td><td>7.07</td><td>0</td><td>0.469</td><td>6.421</td><td>78.9</td><td>4.9671</td><td>2</td><td>242</td><td>17.8</td><td>9.14</td><td>21.6</td><td>23.77402</td><td>-2.174021</td></tr>\n",
       "\t<tr><td>0.02729</td><td> 0</td><td>7.07</td><td>0</td><td>0.469</td><td>7.185</td><td>61.1</td><td>4.9671</td><td>2</td><td>242</td><td>17.8</td><td>4.03</td><td>34.7</td><td>30.72803</td><td> 3.971968</td></tr>\n",
       "\t<tr><td>0.03237</td><td> 0</td><td>2.18</td><td>0</td><td>0.458</td><td>6.998</td><td>45.8</td><td>6.0622</td><td>3</td><td>222</td><td>18.7</td><td>2.94</td><td>33.4</td><td>29.02594</td><td> 4.374062</td></tr>\n",
       "\t<tr><td>0.06905</td><td> 0</td><td>2.18</td><td>0</td><td>0.458</td><td>7.147</td><td>54.2</td><td>6.0622</td><td>3</td><td>222</td><td>18.7</td><td>5.33</td><td>36.2</td><td>30.38215</td><td> 5.817848</td></tr>\n",
       "\t<tr><td>0.02985</td><td> 0</td><td>2.18</td><td>0</td><td>0.458</td><td>6.430</td><td>58.7</td><td>6.0622</td><td>3</td><td>222</td><td>18.7</td><td>5.21</td><td>28.7</td><td>23.85594</td><td> 4.844060</td></tr>\n",
       "</tbody>\n",
       "</table>\n"
      ],
      "text/latex": [
       "A tibble: 6 × 15\n",
       "\\begin{tabular}{lllllllllllllll}\n",
       " crim & zn & indus & chas & nox & rm & age & dis & rad & tax & ptratio & lstat & medv & .pred & .resid\\\\\n",
       " <dbl> & <dbl> & <dbl> & <int> & <dbl> & <dbl> & <dbl> & <dbl> & <int> & <dbl> & <dbl> & <dbl> & <dbl> & <dbl> & <dbl>\\\\\n",
       "\\hline\n",
       "\t 0.00632 & 18 & 2.31 & 0 & 0.538 & 6.575 & 65.2 & 4.0900 & 1 & 296 & 15.3 & 4.98 & 24.0 & 25.17575 & -1.175746\\\\\n",
       "\t 0.02731 &  0 & 7.07 & 0 & 0.469 & 6.421 & 78.9 & 4.9671 & 2 & 242 & 17.8 & 9.14 & 21.6 & 23.77402 & -2.174021\\\\\n",
       "\t 0.02729 &  0 & 7.07 & 0 & 0.469 & 7.185 & 61.1 & 4.9671 & 2 & 242 & 17.8 & 4.03 & 34.7 & 30.72803 &  3.971968\\\\\n",
       "\t 0.03237 &  0 & 2.18 & 0 & 0.458 & 6.998 & 45.8 & 6.0622 & 3 & 222 & 18.7 & 2.94 & 33.4 & 29.02594 &  4.374062\\\\\n",
       "\t 0.06905 &  0 & 2.18 & 0 & 0.458 & 7.147 & 54.2 & 6.0622 & 3 & 222 & 18.7 & 5.33 & 36.2 & 30.38215 &  5.817848\\\\\n",
       "\t 0.02985 &  0 & 2.18 & 0 & 0.458 & 6.430 & 58.7 & 6.0622 & 3 & 222 & 18.7 & 5.21 & 28.7 & 23.85594 &  4.844060\\\\\n",
       "\\end{tabular}\n"
      ],
      "text/markdown": [
       "\n",
       "A tibble: 6 × 15\n",
       "\n",
       "| crim &lt;dbl&gt; | zn &lt;dbl&gt; | indus &lt;dbl&gt; | chas &lt;int&gt; | nox &lt;dbl&gt; | rm &lt;dbl&gt; | age &lt;dbl&gt; | dis &lt;dbl&gt; | rad &lt;int&gt; | tax &lt;dbl&gt; | ptratio &lt;dbl&gt; | lstat &lt;dbl&gt; | medv &lt;dbl&gt; | .pred &lt;dbl&gt; | .resid &lt;dbl&gt; |\n",
       "|---|---|---|---|---|---|---|---|---|---|---|---|---|---|---|\n",
       "| 0.00632 | 18 | 2.31 | 0 | 0.538 | 6.575 | 65.2 | 4.0900 | 1 | 296 | 15.3 | 4.98 | 24.0 | 25.17575 | -1.175746 |\n",
       "| 0.02731 |  0 | 7.07 | 0 | 0.469 | 6.421 | 78.9 | 4.9671 | 2 | 242 | 17.8 | 9.14 | 21.6 | 23.77402 | -2.174021 |\n",
       "| 0.02729 |  0 | 7.07 | 0 | 0.469 | 7.185 | 61.1 | 4.9671 | 2 | 242 | 17.8 | 4.03 | 34.7 | 30.72803 |  3.971968 |\n",
       "| 0.03237 |  0 | 2.18 | 0 | 0.458 | 6.998 | 45.8 | 6.0622 | 3 | 222 | 18.7 | 2.94 | 33.4 | 29.02594 |  4.374062 |\n",
       "| 0.06905 |  0 | 2.18 | 0 | 0.458 | 7.147 | 54.2 | 6.0622 | 3 | 222 | 18.7 | 5.33 | 36.2 | 30.38215 |  5.817848 |\n",
       "| 0.02985 |  0 | 2.18 | 0 | 0.458 | 6.430 | 58.7 | 6.0622 | 3 | 222 | 18.7 | 5.21 | 28.7 | 23.85594 |  4.844060 |\n",
       "\n"
      ],
      "text/plain": [
       "  crim    zn indus chas nox   rm    age  dis    rad tax ptratio lstat medv\n",
       "1 0.00632 18 2.31  0    0.538 6.575 65.2 4.0900 1   296 15.3    4.98  24.0\n",
       "2 0.02731  0 7.07  0    0.469 6.421 78.9 4.9671 2   242 17.8    9.14  21.6\n",
       "3 0.02729  0 7.07  0    0.469 7.185 61.1 4.9671 2   242 17.8    4.03  34.7\n",
       "4 0.03237  0 2.18  0    0.458 6.998 45.8 6.0622 3   222 18.7    2.94  33.4\n",
       "5 0.06905  0 2.18  0    0.458 7.147 54.2 6.0622 3   222 18.7    5.33  36.2\n",
       "6 0.02985  0 2.18  0    0.458 6.430 58.7 6.0622 3   222 18.7    5.21  28.7\n",
       "  .pred    .resid   \n",
       "1 25.17575 -1.175746\n",
       "2 23.77402 -2.174021\n",
       "3 30.72803  3.971968\n",
       "4 29.02594  4.374062\n",
       "5 30.38215  5.817848\n",
       "6 23.85594  4.844060"
      ]
     },
     "metadata": {},
     "output_type": "display_data"
    }
   ],
   "source": [
    "Boston2 = augment(mod_fit, Boston)\n",
    "\n",
    "Boston2 |> head()"
   ]
  },
  {
   "cell_type": "code",
   "execution_count": 47,
   "id": "5d10c6bd-da18-4e09-9b2a-08fc89543636",
   "metadata": {},
   "outputs": [
    {
     "data": {
      "image/png": "[encoded data removed]",
      "text/plain": [
       "plot without title"
      ]
     },
     "metadata": {
      "image/png": {
       "height": 420,
       "width": 420
      }
     },
     "output_type": "display_data"
    }
   ],
   "source": [
    "p = ggplot(Boston2, aes(x = rm)) +\n",
    "    geom_point(aes(y = medv)) + \n",
    "    geom_line(aes(y = .pred), color = 'coral', linewidth = 1.5)\n",
    "\n",
    "p"
   ]
  },
  {
   "cell_type": "markdown",
   "id": "2fe3d9d8-649d-453c-9608-a64bc756cb55",
   "metadata": {},
   "source": [
    "❓Does your model indicate a positive relationship beteen number of rooms and home value? "
   ]
  },
  {
   "cell_type": "markdown",
   "id": "666e9cd6-0e67-4877-ae61-bae742b5f07a",
   "metadata": {},
   "source": [
    "**Answer:**"
   ]
  },
  {
   "cell_type": "markdown",
   "id": "0eaacafa-dfdf-4a86-9f32-5aa46be5f11e",
   "metadata": {},
   "source": [
    "The models indicates a positive reationship between the number of rooms and home value."
   ]
  },
  {
   "cell_type": "markdown",
   "id": "4cbb94ca-1eca-434c-966c-9da85a32b944",
   "metadata": {},
   "source": [
    "## Linear model with one categorical variable"
   ]
  },
  {
   "cell_type": "markdown",
   "id": "e76daf85-704c-4d99-8d21-2cdd9c837748",
   "metadata": {},
   "source": [
    "We will use the `Carseats` data from the `ISLR2` package for the following exercise."
   ]
  },
  {
   "cell_type": "code",
   "execution_count": 49,
   "id": "640d6014-0267-4953-a267-24486d5a83be",
   "metadata": {},
   "outputs": [
    {
     "name": "stdout",
     "output_type": "stream",
     "text": [
      "Rows: 400\n",
      "Columns: 11\n",
      "$ Sales       \u001b[3m\u001b[90m<dbl>\u001b[39m\u001b[23m 9.50, 11.22, 10.06, 7.40, 4.15, 10.81, 6.63, 11.85, 6.54, ~\n",
      "$ CompPrice   \u001b[3m\u001b[90m<dbl>\u001b[39m\u001b[23m 138, 111, 113, 117, 141, 124, 115, 136, 132, 132, 121, 117~\n",
      "$ Income      \u001b[3m\u001b[90m<dbl>\u001b[39m\u001b[23m 73, 48, 35, 100, 64, 113, 105, 81, 110, 113, 78, 94, 35, 2~\n",
      "$ Advertising \u001b[3m\u001b[90m<dbl>\u001b[39m\u001b[23m 11, 16, 10, 4, 3, 13, 0, 15, 0, 0, 9, 4, 2, 11, 11, 5, 0, ~\n",
      "$ Population  \u001b[3m\u001b[90m<dbl>\u001b[39m\u001b[23m 276, 260, 269, 466, 340, 501, 45, 425, 108, 131, 150, 503,~\n",
      "$ Price       \u001b[3m\u001b[90m<dbl>\u001b[39m\u001b[23m 120, 83, 80, 97, 128, 72, 108, 120, 124, 124, 100, 94, 136~\n",
      "$ ShelveLoc   \u001b[3m\u001b[90m<fct>\u001b[39m\u001b[23m Bad, Good, Medium, Medium, Bad, Bad, Medium, Good, Medium,~\n",
      "$ Age         \u001b[3m\u001b[90m<dbl>\u001b[39m\u001b[23m 42, 65, 59, 55, 38, 78, 71, 67, 76, 76, 26, 50, 62, 53, 52~\n",
      "$ Education   \u001b[3m\u001b[90m<dbl>\u001b[39m\u001b[23m 17, 10, 12, 14, 13, 16, 15, 10, 10, 17, 10, 13, 18, 18, 18~\n",
      "$ Urban       \u001b[3m\u001b[90m<fct>\u001b[39m\u001b[23m Yes, Yes, Yes, Yes, Yes, No, Yes, Yes, No, No, No, Yes, Ye~\n",
      "$ US          \u001b[3m\u001b[90m<fct>\u001b[39m\u001b[23m Yes, Yes, Yes, Yes, No, Yes, No, Yes, No, Yes, Yes, Yes, N~\n"
     ]
    }
   ],
   "source": [
    "Carseats |> glimpse()"
   ]
  },
  {
   "cell_type": "markdown",
   "id": "3d8ac0b5-05dd-4eb4-aabd-191fe74a9c9b",
   "metadata": {},
   "source": [
    "Below is a plot of `sales` versus `ShelveLoc`."
   ]
  },
  {
   "cell_type": "code",
   "execution_count": 51,
   "id": "8405e215-e7ea-4a3f-b57f-8c33ceb7845f",
   "metadata": {},
   "outputs": [
    {
     "data": {
      "image/png": "[encoded data removed]",
      "text/plain": [
       "plot without title"
      ]
     },
     "metadata": {
      "image/png": {
       "height": 420,
       "width": 420
      }
     },
     "output_type": "display_data"
    }
   ],
   "source": [
    "p = ggplot(Carseats, aes(x = ShelveLoc, y = Sales)) + \n",
    "    geom_point(position = position_jitter(width = 0.3, height = 0))\n",
    "\n",
    "p"
   ]
  },
  {
   "cell_type": "markdown",
   "id": "5b7bd37c-619e-4981-a362-68f901bbddf9",
   "metadata": {},
   "source": [
    "❓Does it look like a \"Good\" shelf location is associated with more car seat sales?"
   ]
  },
  {
   "cell_type": "markdown",
   "id": "5fdb9cd0-2266-40f8-8fbe-846bfcbd803f",
   "metadata": {},
   "source": [
    "**Answer:**"
   ]
  },
  {
   "cell_type": "markdown",
   "id": "e37a804f-1291-445d-8712-ff939adb4ee1",
   "metadata": {},
   "source": [
    "It does seem like a \"Good\" shelf location is associated with more car sales when we look at the data points plotted."
   ]
  },
  {
   "cell_type": "markdown",
   "id": "9c64d341-9574-4e80-93f2-2971d3986cb5",
   "metadata": {},
   "source": [
    "In cells below, using the `Carseats` data build a model of `Sales` with the `ShelveLoc` variable as a predictor.\n",
    "\n",
    "**Include the following:**\n",
    "- Show a regression table of your model parameters.\n",
    "- Visualize the model with `ggplot2`."
   ]
  },
  {
   "cell_type": "markdown",
   "id": "002b08f0-7408-46f9-8e0d-410469e9de47",
   "metadata": {},
   "source": [
    "📊 *Here is some example code for plotting your model.*"
   ]
  },
  {
   "cell_type": "markdown",
   "id": "17e01659-b665-48b3-b302-258a2234d032",
   "metadata": {},
   "source": [
    "```r\n",
    "# The code below assumes your predictions column is called \".pred\" and is in a\n",
    "# data frame called \"Carseats2\"\n",
    "\n",
    "ggplot(Carseats2, aes(x = ShelveLoc)) + \n",
    "    geom_point(aes(y = Sales), \n",
    "               na.rm = T, position = position_jitter(height = 0, width = 0.2, seed = 42)) +\n",
    "    geom_crossbar(aes(y = .pred, ymin = .pred, ymax = .pred), \n",
    "                  color = 'coral')\n",
    "\n",
    "```"
   ]
  },
  {
   "cell_type": "code",
   "execution_count": 59,
   "id": "c0137117-9331-4bce-8426-d788ac7ff2ef",
   "metadata": {},
   "outputs": [
    {
     "data": {
      "text/plain": [
       "Linear Regression Model Specification (regression)\n",
       "\n",
       "Computational engine: lm \n"
      ]
     },
     "metadata": {},
     "output_type": "display_data"
    }
   ],
   "source": [
    "mod = linear_reg() |> set_engine(\"lm\")\n",
    "\n",
    "mod"
   ]
  },
  {
   "cell_type": "code",
   "execution_count": 65,
   "id": "76a8e70b-4343-4d02-8ed9-d475c479cc84",
   "metadata": {},
   "outputs": [
    {
     "data": {
      "text/plain": [
       "parsnip model object\n",
       "\n",
       "\n",
       "Call:\n",
       "stats::lm(formula = Sales ~ ShelveLoc, data = data)\n",
       "\n",
       "Coefficients:\n",
       "    (Intercept)    ShelveLocGood  ShelveLocMedium  \n",
       "          5.523            4.691            1.784  \n"
      ]
     },
     "metadata": {},
     "output_type": "display_data"
    }
   ],
   "source": [
    "mod_fit = mod |> fit(Sales ~ ShelveLoc, data = Carseats)\n",
    "\n",
    "mod_fit"
   ]
  },
  {
   "cell_type": "code",
   "execution_count": 67,
   "id": "a60a9088-0bab-4b7b-8600-35f87f2b16f8",
   "metadata": {},
   "outputs": [
    {
     "data": {
      "text/html": [
       "<table class=\"dataframe\">\n",
       "<caption>A tibble: 3 × 5</caption>\n",
       "<thead>\n",
       "\t<tr><th scope=col>term</th><th scope=col>estimate</th><th scope=col>std.error</th><th scope=col>statistic</th><th scope=col>p.value</th></tr>\n",
       "\t<tr><th scope=col>&lt;chr&gt;</th><th scope=col>&lt;dbl&gt;</th><th scope=col>&lt;dbl&gt;</th><th scope=col>&lt;dbl&gt;</th><th scope=col>&lt;dbl&gt;</th></tr>\n",
       "</thead>\n",
       "<tbody>\n",
       "\t<tr><td>(Intercept)    </td><td>5.522917</td><td>0.2387665</td><td>23.131038</td><td>1.408290e-75</td></tr>\n",
       "\t<tr><td>ShelveLocGood  </td><td>4.691083</td><td>0.3484201</td><td>13.463872</td><td>2.678712e-34</td></tr>\n",
       "\t<tr><td>ShelveLocMedium</td><td>1.783659</td><td>0.2863562</td><td> 6.228811</td><td>1.198905e-09</td></tr>\n",
       "</tbody>\n",
       "</table>\n"
      ],
      "text/latex": [
       "A tibble: 3 × 5\n",
       "\\begin{tabular}{lllll}\n",
       " term & estimate & std.error & statistic & p.value\\\\\n",
       " <chr> & <dbl> & <dbl> & <dbl> & <dbl>\\\\\n",
       "\\hline\n",
       "\t (Intercept)     & 5.522917 & 0.2387665 & 23.131038 & 1.408290e-75\\\\\n",
       "\t ShelveLocGood   & 4.691083 & 0.3484201 & 13.463872 & 2.678712e-34\\\\\n",
       "\t ShelveLocMedium & 1.783659 & 0.2863562 &  6.228811 & 1.198905e-09\\\\\n",
       "\\end{tabular}\n"
      ],
      "text/markdown": [
       "\n",
       "A tibble: 3 × 5\n",
       "\n",
       "| term &lt;chr&gt; | estimate &lt;dbl&gt; | std.error &lt;dbl&gt; | statistic &lt;dbl&gt; | p.value &lt;dbl&gt; |\n",
       "|---|---|---|---|---|\n",
       "| (Intercept)     | 5.522917 | 0.2387665 | 23.131038 | 1.408290e-75 |\n",
       "| ShelveLocGood   | 4.691083 | 0.3484201 | 13.463872 | 2.678712e-34 |\n",
       "| ShelveLocMedium | 1.783659 | 0.2863562 |  6.228811 | 1.198905e-09 |\n",
       "\n"
      ],
      "text/plain": [
       "  term            estimate std.error statistic p.value     \n",
       "1 (Intercept)     5.522917 0.2387665 23.131038 1.408290e-75\n",
       "2 ShelveLocGood   4.691083 0.3484201 13.463872 2.678712e-34\n",
       "3 ShelveLocMedium 1.783659 0.2863562  6.228811 1.198905e-09"
      ]
     },
     "metadata": {},
     "output_type": "display_data"
    }
   ],
   "source": [
    "tidy(mod_fit)"
   ]
  },
  {
   "cell_type": "code",
   "execution_count": 79,
   "id": "ce01f78f-bf4e-48cf-aa72-9c8883257d67",
   "metadata": {},
   "outputs": [
    {
     "name": "stdout",
     "output_type": "stream",
     "text": [
      "Rows: 400\n",
      "Columns: 13\n",
      "$ Sales       \u001b[3m\u001b[90m<dbl>\u001b[39m\u001b[23m 9.50, 11.22, 10.06, 7.40, 4.15, 10.81, 6.63, 11.85, 6.54, ~\n",
      "$ CompPrice   \u001b[3m\u001b[90m<dbl>\u001b[39m\u001b[23m 138, 111, 113, 117, 141, 124, 115, 136, 132, 132, 121, 117~\n",
      "$ Income      \u001b[3m\u001b[90m<dbl>\u001b[39m\u001b[23m 73, 48, 35, 100, 64, 113, 105, 81, 110, 113, 78, 94, 35, 2~\n",
      "$ Advertising \u001b[3m\u001b[90m<dbl>\u001b[39m\u001b[23m 11, 16, 10, 4, 3, 13, 0, 15, 0, 0, 9, 4, 2, 11, 11, 5, 0, ~\n",
      "$ Population  \u001b[3m\u001b[90m<dbl>\u001b[39m\u001b[23m 276, 260, 269, 466, 340, 501, 45, 425, 108, 131, 150, 503,~\n",
      "$ Price       \u001b[3m\u001b[90m<dbl>\u001b[39m\u001b[23m 120, 83, 80, 97, 128, 72, 108, 120, 124, 124, 100, 94, 136~\n",
      "$ ShelveLoc   \u001b[3m\u001b[90m<fct>\u001b[39m\u001b[23m Bad, Good, Medium, Medium, Bad, Bad, Medium, Good, Medium,~\n",
      "$ Age         \u001b[3m\u001b[90m<dbl>\u001b[39m\u001b[23m 42, 65, 59, 55, 38, 78, 71, 67, 76, 76, 26, 50, 62, 53, 52~\n",
      "$ Education   \u001b[3m\u001b[90m<dbl>\u001b[39m\u001b[23m 17, 10, 12, 14, 13, 16, 15, 10, 10, 17, 10, 13, 18, 18, 18~\n",
      "$ Urban       \u001b[3m\u001b[90m<fct>\u001b[39m\u001b[23m Yes, Yes, Yes, Yes, Yes, No, Yes, Yes, No, No, No, Yes, Ye~\n",
      "$ US          \u001b[3m\u001b[90m<fct>\u001b[39m\u001b[23m Yes, Yes, Yes, Yes, No, Yes, No, Yes, No, Yes, Yes, Yes, N~\n",
      "$ .pred       \u001b[3m\u001b[90m<dbl>\u001b[39m\u001b[23m 5.522917, 10.214000, 7.306575, 7.306575, 5.522917, 5.52291~\n",
      "$ .resid      \u001b[3m\u001b[90m<dbl>\u001b[39m\u001b[23m 3.97708333, 1.00600000, 2.75342466, 0.09342466, -1.3729166~\n"
     ]
    }
   ],
   "source": [
    "Carseats2 = augment(mod_fit, Carseats)\n",
    "\n",
    "glimpse(Carseats2)"
   ]
  },
  {
   "cell_type": "code",
   "execution_count": 87,
   "id": "3b93f124-33da-489e-a8d3-95ff93fa70ae",
   "metadata": {},
   "outputs": [
    {
     "data": {
      "image/png": "[encoded data removed]",
      "text/plain": [
       "plot without title"
      ]
     },
     "metadata": {
      "image/png": {
       "height": 420,
       "width": 420
      }
     },
     "output_type": "display_data"
    }
   ],
   "source": [
    "ggplot(Carseats2, aes(x = ShelveLoc)) + \n",
    "    geom_point(aes(y = Sales), \n",
    "               na.rm = T, position = position_jitter(height = 0, width = 0.2, seed = 42)) +\n",
    "    geom_crossbar(aes(y = .pred, ymin = .pred, ymax = .pred), \n",
    "                  color = 'coral')\n",
    "\n",
    "\n",
    "\n"
   ]
  },
  {
   "cell_type": "markdown",
   "id": "8d9eb06a-5efe-4fab-bf46-c00befe0f1c2",
   "metadata": {},
   "source": [
    "Which `ShelveLoc` category does your intercept term represent? "
   ]
  },
  {
   "cell_type": "markdown",
   "id": "8f0c8f32-cb43-40d4-9c50-10cc840fe117",
   "metadata": {},
   "source": [
    "**Answer:**"
   ]
  },
  {
   "cell_type": "markdown",
   "id": "8f8e7125-3704-442f-92cb-960f6a94ee19",
   "metadata": {},
   "source": [
    "I believe it represents the \"Bad\" shelf location."
   ]
  }
 ],
 "metadata": {
  "kernelspec": {
   "display_name": "R [conda env:base] *",
   "language": "R",
   "name": "conda-base-r"
  },
  "language_info": {
   "codemirror_mode": "r",
   "file_extension": ".r",
   "mimetype": "text/x-r-source",
   "name": "R",
   "pygments_lexer": "r",
   "version": "4.1.3"
  }
 },
 "nbformat": 4,
 "nbformat_minor": 5
}
